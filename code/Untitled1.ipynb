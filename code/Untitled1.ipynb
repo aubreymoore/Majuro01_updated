{
 "cells": [
  {
   "cell_type": "code",
   "execution_count": 20,
   "id": "dental-feeding",
   "metadata": {},
   "outputs": [
    {
     "name": "stdout",
     "output_type": "stream",
     "text": [
      "FINISHED\n"
     ]
    }
   ],
   "source": [
    "import spatialite\n",
    "import pandas as pd\n",
    "import os\n",
    "\n",
    "dbpath = 'mytest.db'\n",
    "if os.path.isfile(dbpath):\n",
    "    os.remove(dbpath)\n",
    "\n",
    "with spatialite.connect(dbpath) as db:\n",
    "    cursor = db.cursor()\n",
    "    \n",
    "    sql = \"CREATE TABLE images(img_original_image_file, geometry);\"\n",
    "    cursor.execute(sql)\n",
    "   \n",
    "    sql = \"SELECT AddGeometryColumn('images', 'geometry', 4326, 'POINT', 'XY');\"\n",
    "    cursor.execute(sql)\n",
    "    \n",
    "    # Read required columns from csv created by extract_gps_data.ipynb\n",
    "\n",
    "    df_img = pd.read_csv('../rawdata/gps-data.csv', usecols=['imagefile', 'longitude_adjusted', 'latitude_adjusted'])\n",
    "    for i, r in df_img.iterrows():\n",
    "        geometry = f'GeomFromText(\"POINT({r.longitude_adjusted} {r.latitude_adjusted})\", 4326)'      \n",
    "        sql = f'INSERT INTO images(img_original_image_file, geometry) VALUES(\"{r.imagefile}\",{geometry});'\n",
    "        cursor.execute(sql)  \n",
    "        \n",
    "print('FINISHED')"
   ]
  }
 ],
 "metadata": {
  "kernelspec": {
   "display_name": "Python 3",
   "language": "python",
   "name": "python3"
  },
  "language_info": {
   "codemirror_mode": {
    "name": "ipython",
    "version": 3
   },
   "file_extension": ".py",
   "mimetype": "text/x-python",
   "name": "python",
   "nbconvert_exporter": "python",
   "pygments_lexer": "ipython3",
   "version": "3.6.9"
  }
 },
 "nbformat": 4,
 "nbformat_minor": 5
}
