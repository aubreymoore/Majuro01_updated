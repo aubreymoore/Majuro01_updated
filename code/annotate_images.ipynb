{
 "cells": [
  {
   "cell_type": "code",
   "execution_count": 1,
   "id": "aging-substitute",
   "metadata": {},
   "outputs": [],
   "source": [
    "import spatialite\n",
    "import pandas as pd\n",
    "import cv2\n",
    "import numpy as n\n",
    "import os"
   ]
  },
  {
   "cell_type": "markdown",
   "id": "fatty-burton",
   "metadata": {},
   "source": [
    "# TODO\n",
    "\n",
    "Make it so annotations are dynamically positioned to remain withing the borders of the image"
   ]
  },
  {
   "cell_type": "code",
   "execution_count": 2,
   "id": "weekly-recognition",
   "metadata": {},
   "outputs": [
    {
     "name": "stdout",
     "output_type": "stream",
     "text": [
      "time: 166 µs (started: 2023-12-04 11:20:09 +08:00)\n"
     ]
    }
   ],
   "source": [
    "try:\n",
    "    %load_ext autotime\n",
    "except:\n",
    "    !pip install ipython-autotime\n",
    "    %load_ext autotime"
   ]
  },
  {
   "cell_type": "code",
   "execution_count": 3,
   "id": "secret-impossible",
   "metadata": {},
   "outputs": [
    {
     "name": "stdout",
     "output_type": "stream",
     "text": [
      "time: 23.3 ms (started: 2023-12-04 11:20:09 +08:00)\n"
     ]
    }
   ],
   "source": [
    "DBPATH = '700_990.db'\n",
    "ORIGINAL_IMAGE_DIR = '../rawdata'\n",
    "ANNOTATED_IMAGE_DIR = '../700_990_images_with_palms'\n",
    "IMAGES_WITH_VCUTS = '../700_990_images_with_vcuts'"
   ]
  },
  {
   "cell_type": "code",
   "execution_count": 4,
   "id": "popular-midnight",
   "metadata": {},
   "outputs": [
    {
     "name": "stdout",
     "output_type": "stream",
     "text": [
      "time: 18.5 ms (started: 2023-12-04 11:20:09 +08:00)\n"
     ]
    }
   ],
   "source": [
    "def get_images():\n",
    "    # create a dataframe for all images which contain boxes (detected coconut palms)\n",
    "    sql = '''\n",
    "    SELECT images.id, imagefile \n",
    "    FROM images, boxes \n",
    "    WHERE images.id=boxes.images_id\n",
    "    GROUP BY images.id\n",
    "    '''\n",
    "    df_images = pd.read_sql(sql, con)\n",
    "    return df_images"
   ]
  },
  {
   "cell_type": "code",
   "execution_count": 5,
   "id": "short-greeting",
   "metadata": {},
   "outputs": [
    {
     "name": "stdout",
     "output_type": "stream",
     "text": [
      "time: 33.1 ms (started: 2023-12-04 11:20:09 +08:00)\n"
     ]
    }
   ],
   "source": [
    "def get_boxes_and_polygons(imagefile):\n",
    "    # get data for objects detected in imagefile\n",
    "    # returns 2 dataframes:\n",
    "    # df_boxes contains data for coconut palms\n",
    "    # df_polygons contains data for v-shaped cuts\n",
    "\n",
    "    # Get boxes in imagefile\n",
    "    sql = f'''SELECT boxes.*, AsText(boxes.geometry) as wkt\n",
    "    FROM images, boxes \n",
    "    WHERE images.id=boxes.images_id AND imagefile=\"{imagefile}\";\n",
    "    '''\n",
    "    df_boxes = pd.read_sql(sql, con)\n",
    "    \n",
    "    # Get polygons which intersect the selected boxes\n",
    "    box_ids = tuple(df_boxes.id)\n",
    "    sql = f'''SELECT * \n",
    "    FROM intersections \n",
    "    WHERE boxes_id IN {box_ids};\n",
    "    '''\n",
    "    sql = sql.replace(',)', ')')\n",
    "    df_intersections = pd.read_sql(sql, con)\n",
    "    polygons_ids = tuple(df_intersections.polygons_id)\n",
    "\n",
    "    sql = f'select *, AsText(geometry) as wkt from polygons where id in {polygons_ids}'\n",
    "    sql = sql.replace(',)', ')')\n",
    "    df_polygons = pd.read_sql(sql, con)\n",
    "    \n",
    "    return df_boxes, df_polygons    "
   ]
  },
  {
   "cell_type": "code",
   "execution_count": 6,
   "id": "secondary-blink",
   "metadata": {},
   "outputs": [
    {
     "name": "stdout",
     "output_type": "stream",
     "text": [
      "time: 39.4 ms (started: 2023-12-04 11:20:09 +08:00)\n"
     ]
    }
   ],
   "source": [
    "def poly_wkt_to_rectangle(wkt_string):\n",
    "    # Returns coordinates for a rectangle bounding a polygon stored as a WKT string\n",
    "    # Useful for drawing rectangles on cv2 images\n",
    "    s = wkt_string\n",
    "    s = s.replace('POLYGON((', '').replace('))', '').replace(',', '')\n",
    "    s = s.split()\n",
    "    xylist = [int(i) for i in s]\n",
    "    xmin = min(xylist[0::2])\n",
    "    xmax = max(xylist[0::2])\n",
    "    ymin = min(xylist[1::2])\n",
    "    ymax = max(xylist[1::2])\n",
    "    return xmin, ymin, xmax, ymax\n",
    "\n",
    "# wkt = 'POLYGON((231 0, 231 796, 748 796, 748 0, 231 0))'\n",
    "# xmin, ymin, xmax, ymax = poly_wkt_to_rectangle(wkt)\n",
    "# print(xmin, ymin, xmax, ymax)"
   ]
  },
  {
   "cell_type": "code",
   "execution_count": 7,
   "id": "parental-paint",
   "metadata": {},
   "outputs": [
    {
     "name": "stdout",
     "output_type": "stream",
     "text": [
      "time: 21.8 ms (started: 2023-12-04 11:20:09 +08:00)\n"
     ]
    }
   ],
   "source": [
    "def draw_text(img, text, \n",
    "              font=cv2.FONT_HERSHEY_PLAIN,\n",
    "              pos=(0, 0),\n",
    "              font_scale=2,\n",
    "              font_thickness=2,\n",
    "              text_color=(0, 255, 0),\n",
    "              text_color_bg=(0, 0, 0)\n",
    "    ):    \n",
    "    x, y = pos\n",
    "    text_size, _ = cv2.getTextSize(text, font, font_scale, font_thickness)\n",
    "    text_w, text_h = text_size\n",
    "    cv2.rectangle(img, pos, (x + text_w, y + text_h), text_color_bg, -1)\n",
    "    cv2.putText(img, text, (x, y + text_h + font_scale - 1), font, font_scale, text_color, font_thickness)\n",
    "    return text_size"
   ]
  },
  {
   "cell_type": "code",
   "execution_count": 8,
   "id": "confidential-organizer",
   "metadata": {},
   "outputs": [
    {
     "name": "stdout",
     "output_type": "stream",
     "text": [
      "time: 30.5 ms (started: 2023-12-04 11:20:09 +08:00)\n"
     ]
    }
   ],
   "source": [
    "def annotate(imagefile):\n",
    "    inputpath = f'{ORIGINAL_IMAGE_DIR}/{imagefile}'\n",
    "    outputpath = f'{ANNOTATED_IMAGE_DIR}/{imagefile}'\n",
    "        \n",
    "    df_boxes, df_polygons = get_boxes_and_polygons(imagefile)\n",
    "    \n",
    "    img = cv2.imread(inputpath)\n",
    "\n",
    "    # draw boxes\n",
    "    for i, r in df_boxes.iterrows():\n",
    "        color = colors[r.damage_level]\n",
    "        xmin, ymin, xmax, ymax = poly_wkt_to_rectangle(r.wkt)\n",
    "        img = cv2.rectangle(img, (xmin,ymin), (xmax,ymax), color, 3)\n",
    "        text = f'{r.id} {r.score:.4f} {r.damage_level}'\n",
    "        draw_text(img, text, pos=(xmin+5,ymax-27)) \n",
    "\n",
    "    # draw polygons\n",
    "    for i, r in df_polygons.iterrows():\n",
    "        xmin, ymin, xmax, ymax = poly_wkt_to_rectangle(r.wkt)\n",
    "        img = cv2.rectangle(img, (xmin,ymin), (xmax,ymax), (0,0,255), 1)\n",
    "        text = f'{r.id} {r.score:.4f}'    \n",
    "        draw_text(img, text, text_color=(0,0,255), pos=(xmin-100,ymax+5)) \n",
    "    \n",
    "    cv2.imwrite(outputpath, img)  \n",
    "    \n",
    "# annotate('IMG_20231007_111032.jpg')"
   ]
  },
  {
   "cell_type": "code",
   "execution_count": 9,
   "id": "innocent-seeker",
   "metadata": {},
   "outputs": [
    {
     "name": "stdout",
     "output_type": "stream",
     "text": [
      "time: 40.8 ms (started: 2023-12-04 11:20:09 +08:00)\n"
     ]
    }
   ],
   "source": [
    "# def create_top100_symlinks():\n",
    "#     # Get v-shaped cuts which intersect with boxes and select those with the top 100 highest scores\n",
    "#     sql = '''\n",
    "#     SELECT imagefile, polygons.score \n",
    "#     FROM images, polygons, intersections\n",
    "#     WHERE images.id=polygons.images_id \n",
    "#       AND polygons.id=intersections.polygons_id\n",
    "#     ORDER BY polygons.score DESC\n",
    "#     LIMIT 100;\n",
    "#     '''\n",
    "#     df_top100 = pd.read_sql(sql, con)\n",
    "    \n",
    "#     # delete output directory, create a new one and use it as the work directory\n",
    "#     os.system(f'rm -rf {TOP100POLYGONS}') \n",
    "#     os.system(f'mkdir {TOP100POLYGONS}')     \n",
    "#     original_wd = os.getcwd()\n",
    "#     os.chdir(TOP100POLYGONS)\n",
    "    \n",
    "#     for i, r in df_top100.iterrows():\n",
    "#         imagefile = r.imagefile\n",
    "#         command = f'ln -s {ANNOTATED_IMAGE_DIR}/{imagefile} {i:02}_{imagefile}'\n",
    "#         os.system(command)\n",
    "        \n",
    "#     # change back to original work directory\n",
    "#     os.chdir(original_wd)"
   ]
  },
  {
   "cell_type": "code",
   "execution_count": 10,
   "id": "frequent-output",
   "metadata": {},
   "outputs": [
    {
     "name": "stdout",
     "output_type": "stream",
     "text": [
      "time: 22.9 ms (started: 2023-12-04 11:20:09 +08:00)\n"
     ]
    }
   ],
   "source": [
    "def create_vcuts_symlinks():\n",
    "    sql = '''\n",
    "    select imagefile\n",
    "    from images, boxes, intersections\n",
    "    where \n",
    "      images.id=boxes.images_id\n",
    "      and boxes.id=intersections.boxes_id\n",
    "    group by imagefile;\n",
    "    '''\n",
    "    df = pd.read_sql(sql, con)\n",
    "                     \n",
    "    # delete output directory, create a new one and use it as the work directory\n",
    "    os.system(f'rm -rf {IMAGES_WITH_VCUTS}') \n",
    "    os.system(f'mkdir {IMAGES_WITH_VCUTS}')     \n",
    "    original_wd = os.getcwd()\n",
    "    os.chdir(IMAGES_WITH_VCUTS)\n",
    "    \n",
    "    for i, r in df.iterrows():\n",
    "        imagefile = r.imagefile\n",
    "        command = f'ln -s {ANNOTATED_IMAGE_DIR}/{imagefile} {i:02}_{imagefile}'\n",
    "        os.system(command)\n",
    "        \n",
    "    # change back to original work directory\n",
    "    os.chdir(original_wd)    "
   ]
  },
  {
   "cell_type": "code",
   "execution_count": 14,
   "id": "confused-transition",
   "metadata": {},
   "outputs": [
    {
     "name": "stdout",
     "output_type": "stream",
     "text": [
      "time: 152 ms (started: 2023-12-05 07:48:28 +08:00)\n"
     ]
    }
   ],
   "source": [
    "def create_d5_images_dir():\n",
    "    sql = \"\"\"\n",
    "    SELECT imagefile\n",
    "    FROM images\n",
    "    JOIN boxes ON images.id=boxes.images_id\n",
    "    WHERE damage_level=5;\n",
    "    \"\"\"\n",
    "\n",
    "    output_dir = '../d5_images'\n",
    "    os.system(f'rm -rf {output_dir}') \n",
    "    os.system(f'mkdir {output_dir}')     \n",
    "\n",
    "    with spatialite.connect(DBPATH) as con:\n",
    "        df = pd.read_sql(sql, con)\n",
    "\n",
    "    for i, r in df.iterrows():\n",
    "        command = f'cp {ANNOTATED_IMAGE_DIR}/{r.imagefile} {output_dir}/{r.imagefile}'\n",
    "        os.system(command) \n",
    "\n",
    "create_d5_images_dir()"
   ]
  },
  {
   "cell_type": "code",
   "execution_count": 12,
   "id": "facial-spring",
   "metadata": {},
   "outputs": [
    {
     "name": "stdout",
     "output_type": "stream",
     "text": [
      "---annotating images\n",
      "---creating symlinks for images with v-cuts\n",
      "FINISHED\n",
      "time: 1min 14s (started: 2023-12-04 11:20:09 +08:00)\n"
     ]
    }
   ],
   "source": [
    "# MAIN\n",
    "\n",
    "# delete output directory and create a new one\n",
    "os.system(f'rm -rf {ANNOTATED_IMAGE_DIR}') \n",
    "os.system(f'mkdir {ANNOTATED_IMAGE_DIR}')\n",
    "\n",
    "# colors for damage classes\n",
    "colors = {1:(0,255,0), 2:(0,255,255), 3:(0,165,255), 4:(0,100,255), 5:(0,0,255)}\n",
    "\n",
    "print('---annotating images')\n",
    "con = spatialite.connect(DBPATH)\n",
    "df_images = get_images()\n",
    "for i, r in df_images.iterrows():\n",
    "    imagefile = r.imagefile\n",
    "    annotate(imagefile)\n",
    "    \n",
    "# print('---creating symlinks for images with top 100 polygons') \n",
    "# create_top100_symlinks()\n",
    "\n",
    "print('---creating symlinks for images with v-cuts') \n",
    "create_vcuts_symlinks()\n",
    "\n",
    "con.close()\n",
    "\n",
    "print('FINISHED')"
   ]
  },
  {
   "cell_type": "code",
   "execution_count": null,
   "id": "sacred-florida",
   "metadata": {},
   "outputs": [],
   "source": []
  }
 ],
 "metadata": {
  "kernelspec": {
   "display_name": "Python 3",
   "language": "python",
   "name": "python3"
  },
  "language_info": {
   "codemirror_mode": {
    "name": "ipython",
    "version": 3
   },
   "file_extension": ".py",
   "mimetype": "text/x-python",
   "name": "python",
   "nbconvert_exporter": "python",
   "pygments_lexer": "ipython3",
   "version": "3.6.9"
  }
 },
 "nbformat": 4,
 "nbformat_minor": 5
}
