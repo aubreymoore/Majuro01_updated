{
 "cells": [
  {
   "cell_type": "markdown",
   "id": "final-prompt",
   "metadata": {},
   "source": [
    "# large_files_handler.ipynb\n"
   ]
  },
  {
   "cell_type": "code",
   "execution_count": 1,
   "id": "hundred-fluid",
   "metadata": {},
   "outputs": [],
   "source": [
    "import subprocess\n",
    "import os\n",
    "import glob"
   ]
  },
  {
   "cell_type": "code",
   "execution_count": 3,
   "id": "numeric-craft",
   "metadata": {},
   "outputs": [],
   "source": [
    "def get_large_files_list():\n",
    "    \"\"\" \n",
    "    Returns a list of filenames for files greater than 50 Mb \n",
    "    Note that recursive search starts in parent folder.\n",
    "    \"\"\"\n",
    "    result = subprocess.run('find .. -type f -size +50M', stdout=subprocess.PIPE, shell=True)\n",
    "    return [i.decode('utf8') for i in result.stdout.split()]"
   ]
  },
  {
   "cell_type": "code",
   "execution_count": 4,
   "id": "guilty-capitol",
   "metadata": {},
   "outputs": [],
   "source": [
    "def confirm_large_files_are_listed_in_gitignore(large_files_list):\n",
    "\n",
    "    # if ../.gitignore does not exist, create it\n",
    "    gitignore_path = '../.gitignore'\n",
    "    if not os.path.exists(gitignore_path):\n",
    "        os.system(f'touch {gitignore_path}')\n",
    "\n",
    "    # read ../.gitignore as a string\n",
    "    with open(gitignore_path, 'r') as f:\n",
    "        s = f.read()          \n",
    "\n",
    "    # make sure that a filename for each file greater than 50 Mb is included in the string\n",
    "    string_has_been_modified = False\n",
    "    for filename in large_files_list:\n",
    "        found = any(filename in x for x in s)\n",
    "        if not found:\n",
    "            s = s + filename + '\\n'\n",
    "            string_has_been_modified = True\n",
    "\n",
    "    # if the string has been modified, replace ../.gitignore\n",
    "    if string_has_been_modified:\n",
    "        with open(gitignore_path, 'w') as f:\n",
    "            f.write(s)    "
   ]
  },
  {
   "cell_type": "code",
   "execution_count": 32,
   "id": "devoted-madness",
   "metadata": {},
   "outputs": [],
   "source": [
    "def assemble_large_files_from_parts():\n",
    "    parts_files = sorted(glob.glob('../**/*.part_*', recursive=True))\n",
    "    for file in list(set([s[:s.find('.part_')] for s in parts_files])):\n",
    "        command = f'cat {file}.part_?? > {file}'\n",
    "        print(command)\n",
    "        subprocess.run(command, shell=True)"
   ]
  },
  {
   "cell_type": "code",
   "execution_count": 6,
   "id": "sound-wrong",
   "metadata": {},
   "outputs": [],
   "source": [
    "def split_large_files(large_file_list):\n",
    "    for filename in large_file_list:\n",
    "        command = f'split -b 40MB {filename} {filename}.part_'\n",
    "        print(command)\n",
    "        subprocess.run(command, shell=True)"
   ]
  },
  {
   "cell_type": "code",
   "execution_count": 7,
   "id": "freelance-conservative",
   "metadata": {},
   "outputs": [
    {
     "name": "stdout",
     "output_type": "stream",
     "text": [
      "split -b 40MB ../code/object-detectors/inference_data/frozen_inference_graph_5classes.pb ../code/object-detectors/inference_data/frozen_inference_graph_5classes.pb.part_\n",
      "split -b 40MB ../code/object-detectors/inference_data/frozen_inference_graph_3classes.pb ../code/object-detectors/inference_data/frozen_inference_graph_3classes.pb.part_\n",
      "split -b 40MB ../code/object-detectors/inference_data/mask_rcnn_cvat_0160.h5 ../code/object-detectors/inference_data/mask_rcnn_cvat_0160.h5.part_\n"
     ]
    }
   ],
   "source": [
    "# MAIN\n",
    "\n",
    "large_files_list = get_large_files_list()\n",
    "if len(large_files_list) == 0:   # this is the state immediately after cloning from github\n",
    "    assemble_large_files_from_parts()\n",
    "else:\n",
    "    split_large_files(large_files_list)\n",
    "    \n",
    "large_files_list = get_large_files_list()\n",
    "confirm_large_files_are_listed_in_gitignore(large_files_list)\n",
    "print('FINISHED')"
   ]
  }
 ],
 "metadata": {
  "kernelspec": {
   "display_name": "Python 3",
   "language": "python",
   "name": "python3"
  },
  "language_info": {
   "codemirror_mode": {
    "name": "ipython",
    "version": 3
   },
   "file_extension": ".py",
   "mimetype": "text/x-python",
   "name": "python",
   "nbconvert_exporter": "python",
   "pygments_lexer": "ipython3",
   "version": "3.6.9"
  }
 },
 "nbformat": 4,
 "nbformat_minor": 5
}
